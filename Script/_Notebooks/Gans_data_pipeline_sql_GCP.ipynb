{
 "cells": [
  {
   "cell_type": "code",
   "execution_count": 128,
   "id": "7a3bc7f4-ea3b-4399-bde1-03b26294dc85",
   "metadata": {},
   "outputs": [],
   "source": [
    "### ALL CODES BELOW (AS A UNITY) WORK ONLY FOR THE \"GOOGLE CLOUD INSTANCE\" IN SQL CONNECTIONS (HOME OF MYSQLWORKBENCH)!\n",
    "### This complete file NEEDS to be run before adding updated information to SQL database tables in the future.\n",
    "### (For example: updated population, weather, or airports and flight information)\n",
    "### Note: getting updated information would require running the separate files, as needed (i.e. weather to get current weather info)\n",
    "\n",
    "#IMPORTANT:\n",
    "### RUN ALL CELLS ONLY WHEN HAVE RUN SQL QUERY (= HAVE DELETED AND RECREATED SQL DATABASE AND TABLES) AND WANT\n",
    "### BASIS INFORMATION ON WHICH COULD BE ADDED ON IN THE FUTURE."
   ]
  },
  {
   "cell_type": "code",
   "execution_count": null,
   "id": "64104f7b-b51d-4095-938d-d822bb292577",
   "metadata": {
    "id": "64104f7b-b51d-4095-938d-d822bb292577"
   },
   "outputs": [],
   "source": [
    "cities = ['City1', 'City2', 'City3'] #replace City1, City2...with actual city names"
   ]
  },
  {
   "cell_type": "code",
   "execution_count": 131,
   "id": "42b8bf81-1cc9-4f07-a748-0c7e4279ba02",
   "metadata": {
    "id": "42b8bf81-1cc9-4f07-a748-0c7e4279ba02"
   },
   "outputs": [],
   "source": [
    "# install if needed:\n",
    "# !pip install sqlalchemy\n",
    "# !pip install pymysql\n",
    "\n",
    "# libraries used:\n",
    "import get_connection_string_GCP as gcs\n",
    "import get_city_data as gcd\n",
    "import get_population_data_GCP as gpd\n",
    "import get_weather_data as gwd\n",
    "import get_airport_codes as gac\n",
    "import get_flight_arrivals as gfa\n",
    "import pandas as pd\n",
    "import requests"
   ]
  },
  {
   "cell_type": "code",
   "execution_count": 132,
   "id": "f093d9b6-26c2-423f-ad85-17aa8a2f32f2",
   "metadata": {
    "id": "f093d9b6-26c2-423f-ad85-17aa8a2f32f2"
   },
   "outputs": [],
   "source": [
    "connection_string = gcs.get_connection_string()"
   ]
  },
  {
   "cell_type": "markdown",
   "id": "rjCDrxwekl8f",
   "metadata": {
    "id": "rjCDrxwekl8f"
   },
   "source": [
    "## Get_city information"
   ]
  },
  {
   "cell_type": "code",
   "execution_count": 134,
   "id": "05907c71-2db7-4217-b4f6-9e65c43df49e",
   "metadata": {
    "id": "05907c71-2db7-4217-b4f6-9e65c43df49e"
   },
   "outputs": [],
   "source": [
    "city_scraping_df=gcd.get_city_data(cities)"
   ]
  },
  {
   "cell_type": "code",
   "execution_count": 135,
   "id": "efb859a9-2276-4b6c-a63c-1d5d49aaee9f",
   "metadata": {
    "id": "efb859a9-2276-4b6c-a63c-1d5d49aaee9f"
   },
   "outputs": [],
   "source": [
    "city_pop_scraping_df=gpd.get_population_data(cities)"
   ]
  },
  {
   "cell_type": "markdown",
   "id": "068qye0QkZwy",
   "metadata": {
    "id": "068qye0QkZwy"
   },
   "source": [
    "### Countries"
   ]
  },
  {
   "cell_type": "code",
   "execution_count": 137,
   "id": "3c2eae1d-dab0-4f0f-97d2-2a1a3f143415",
   "metadata": {
    "id": "3c2eae1d-dab0-4f0f-97d2-2a1a3f143415"
   },
   "outputs": [],
   "source": [
    "countries_df = city_scraping_df['country'].unique()\n",
    "countries_df = pd.DataFrame({\"country\": countries_df})"
   ]
  },
  {
   "cell_type": "code",
   "execution_count": 138,
   "id": "6d03c9d9-0079-4349-980a-e1da105a5ffc",
   "metadata": {
    "id": "6d03c9d9-0079-4349-980a-e1da105a5ffc",
    "outputId": "5f25e4f9-ce64-46cf-dcfe-c3c9685681fd"
   },
   "outputs": [
    {
     "data": {
      "text/plain": [
       "1"
      ]
     },
     "execution_count": 138,
     "metadata": {},
     "output_type": "execute_result"
    }
   ],
   "source": [
    "countries_df.to_sql('countries',\n",
    "                  if_exists='append',\n",
    "                  con=connection_string,\n",
    "                  index=False)"
   ]
  },
  {
   "cell_type": "code",
   "execution_count": 139,
   "id": "b7586e91-e8b5-45a0-bb13-3d849d3a1a65",
   "metadata": {
    "id": "b7586e91-e8b5-45a0-bb13-3d849d3a1a65"
   },
   "outputs": [],
   "source": [
    "countries_from_sql = pd.read_sql(\"countries\", con=connection_string)"
   ]
  },
  {
   "cell_type": "markdown",
   "id": "0oldX-WBkTEC",
   "metadata": {
    "id": "0oldX-WBkTEC"
   },
   "source": [
    "### Cities"
   ]
  },
  {
   "cell_type": "code",
   "execution_count": 141,
   "id": "5fda89ce-84fe-4b4a-9b58-2b00a768bbc3",
   "metadata": {
    "id": "5fda89ce-84fe-4b4a-9b58-2b00a768bbc3"
   },
   "outputs": [],
   "source": [
    "merged_countries_df = city_scraping_df.merge(countries_from_sql,\n",
    "                                             on = \"country\",\n",
    "                                             how = \"left\")"
   ]
  },
  {
   "cell_type": "code",
   "execution_count": 142,
   "id": "994009cc-be69-457d-b2d1-e257321f4ec4",
   "metadata": {
    "id": "994009cc-be69-457d-b2d1-e257321f4ec4"
   },
   "outputs": [],
   "source": [
    "cities_df = merged_countries_df.drop(columns=[\"country\"])"
   ]
  },
  {
   "cell_type": "code",
   "execution_count": 143,
   "id": "d2bbc05a-da28-4ce3-8ef9-4f2425cba636",
   "metadata": {
    "id": "d2bbc05a-da28-4ce3-8ef9-4f2425cba636",
    "outputId": "10531046-db77-4c91-ef0c-742262cc3f58"
   },
   "outputs": [
    {
     "data": {
      "text/plain": [
       "3"
      ]
     },
     "execution_count": 143,
     "metadata": {},
     "output_type": "execute_result"
    }
   ],
   "source": [
    "cities_df.to_sql('cities',\n",
    "                  if_exists='append',\n",
    "                  con=connection_string,\n",
    "                  index=False)"
   ]
  },
  {
   "cell_type": "markdown",
   "id": "a13971ee-3a5a-4b70-aede-a1a04b541da3",
   "metadata": {
    "id": "3CxzSgS9kI6W"
   },
   "source": [
    "### Population"
   ]
  },
  {
   "cell_type": "code",
   "execution_count": 145,
   "id": "33c5002b-80bf-402e-b06c-7f00a09eef18",
   "metadata": {
    "id": "33c5002b-80bf-402e-b06c-7f00a09eef18"
   },
   "outputs": [],
   "source": [
    "cities_from_sql = pd.read_sql(\"cities\", con=connection_string)"
   ]
  },
  {
   "cell_type": "code",
   "execution_count": 146,
   "id": "7d4f4726-7636-4138-b382-dfe8b607999f",
   "metadata": {
    "id": "7d4f4726-7636-4138-b382-dfe8b607999f"
   },
   "outputs": [],
   "source": [
    "merged_population = cities_from_sql.merge(city_pop_scraping_df,\n",
    "                                   on = \"city\",\n",
    "                                   how=\"left\")"
   ]
  },
  {
   "cell_type": "code",
   "execution_count": 147,
   "id": "4c462846-0254-45e1-83cd-9827027b32e4",
   "metadata": {
    "id": "4c462846-0254-45e1-83cd-9827027b32e4"
   },
   "outputs": [],
   "source": [
    "population_df = merged_population[['city_id','population','year']]"
   ]
  },
  {
   "cell_type": "code",
   "execution_count": 148,
   "id": "55af1050-7e05-4299-a955-596a718333a7",
   "metadata": {
    "id": "55af1050-7e05-4299-a955-596a718333a7",
    "outputId": "e31f67d5-0755-4c07-cdf3-3ed89c6966f4"
   },
   "outputs": [
    {
     "data": {
      "text/plain": [
       "3"
      ]
     },
     "execution_count": 148,
     "metadata": {},
     "output_type": "execute_result"
    }
   ],
   "source": [
    "population_df.to_sql('population',\n",
    "                  if_exists='append',\n",
    "                  con=connection_string,\n",
    "                  index=False)"
   ]
  },
  {
   "cell_type": "code",
   "execution_count": 149,
   "id": "3e2b07c3-e619-4845-a5b7-8ae6fd032108",
   "metadata": {
    "id": "3e2b07c3-e619-4845-a5b7-8ae6fd032108"
   },
   "outputs": [],
   "source": [
    "population_from_sql = pd.read_sql(\"population\", con=connection_string) "
   ]
  },
  {
   "cell_type": "markdown",
   "id": "rS4-CcKOkAaM",
   "metadata": {
    "id": "rS4-CcKOkAaM"
   },
   "source": [
    "## Get_weather"
   ]
  },
  {
   "cell_type": "code",
   "execution_count": 151,
   "id": "9afaa85b-32ae-4638-b680-34ee0d6f6c24",
   "metadata": {
    "id": "9afaa85b-32ae-4638-b680-34ee0d6f6c24"
   },
   "outputs": [],
   "source": [
    "cities = cities_from_sql[\"city\"].to_list()"
   ]
  },
  {
   "cell_type": "code",
   "execution_count": 152,
   "id": "8e4e77a9-8bee-4bac-9218-03a2fc37ce61",
   "metadata": {
    "id": "8e4e77a9-8bee-4bac-9218-03a2fc37ce61"
   },
   "outputs": [],
   "source": [
    "city_weather_df = gwd.get_weather_data(cities)\n"
   ]
  },
  {
   "cell_type": "code",
   "execution_count": 153,
   "id": "e780823d-dcdb-4026-b44e-3ea7a5057a6a",
   "metadata": {
    "id": "e780823d-dcdb-4026-b44e-3ea7a5057a6a"
   },
   "outputs": [],
   "source": [
    "merged_weather_df = city_weather_df.merge(cities_from_sql,\n",
    "                                   on = \"city\",\n",
    "                                   how=\"left\")"
   ]
  },
  {
   "cell_type": "code",
   "execution_count": 154,
   "id": "a9f52fe4-ff9f-4e76-8154-ea51fb162cbc",
   "metadata": {
    "id": "a9f52fe4-ff9f-4e76-8154-ea51fb162cbc"
   },
   "outputs": [],
   "source": [
    "weather_df = merged_weather_df.drop(columns=[\"city\",\"country_id\", \"latitude\",\"longitude\"])"
   ]
  },
  {
   "cell_type": "code",
   "execution_count": 155,
   "id": "f4357b79-4e72-4b34-b37f-fb4786a746a1",
   "metadata": {
    "id": "f4357b79-4e72-4b34-b37f-fb4786a746a1"
   },
   "outputs": [],
   "source": [
    "weather_df['forecast_time']=pd.to_datetime(weather_df['forecast_time'])"
   ]
  },
  {
   "cell_type": "code",
   "execution_count": 156,
   "id": "fed60058-0903-4497-b3e4-844dd61ca132",
   "metadata": {
    "id": "fed60058-0903-4497-b3e4-844dd61ca132",
    "outputId": "53df46e3-ef78-4f6c-fe8f-ccd4f826bb84"
   },
   "outputs": [
    {
     "data": {
      "text/plain": [
       "120"
      ]
     },
     "execution_count": 156,
     "metadata": {},
     "output_type": "execute_result"
    }
   ],
   "source": [
    "weather_df.to_sql('weather',\n",
    "                  if_exists='append',\n",
    "                  con=connection_string,\n",
    "                  index=False)"
   ]
  },
  {
   "cell_type": "code",
   "execution_count": 157,
   "id": "413518e1-a526-41a3-abac-52331f3b9c45",
   "metadata": {
    "id": "413518e1-a526-41a3-abac-52331f3b9c45"
   },
   "outputs": [],
   "source": [
    "weather_from_sql = pd.read_sql(\"weather\", con=connection_string)"
   ]
  },
  {
   "cell_type": "markdown",
   "id": "q8LtsKvPj28S",
   "metadata": {
    "id": "q8LtsKvPj28S"
   },
   "source": [
    "## Get_airports"
   ]
  },
  {
   "cell_type": "code",
   "execution_count": 159,
   "id": "445aae20-3ca8-4ffb-9ba7-436a8ecde84f",
   "metadata": {
    "id": "445aae20-3ca8-4ffb-9ba7-436a8ecde84f"
   },
   "outputs": [],
   "source": [
    "city_latitude = cities_from_sql['latitude'].to_list()\n",
    "city_longitude = cities_from_sql['longitude'].to_list()"
   ]
  },
  {
   "cell_type": "code",
   "execution_count": 160,
   "id": "e8da1e43-800e-44ef-b1e0-add6eab1c72d",
   "metadata": {
    "id": "e8da1e43-800e-44ef-b1e0-add6eab1c72d"
   },
   "outputs": [],
   "source": [
    "airports_df = gac.get_airport_codes(city_latitude, city_longitude)"
   ]
  },
  {
   "cell_type": "code",
   "execution_count": 161,
   "id": "c426b11e-b131-4026-8eac-d68c38baf1ea",
   "metadata": {
    "id": "c426b11e-b131-4026-8eac-d68c38baf1ea"
   },
   "outputs": [],
   "source": [
    "merged_airport_df = pd.merge(airports_df, cities_from_sql,\n",
    "                                   on = ['latitude', 'longitude'],\n",
    "                                   how=\"left\")"
   ]
  },
  {
   "cell_type": "code",
   "execution_count": 162,
   "id": "af29cb6c-cca8-4774-80ee-98773e5594cc",
   "metadata": {
    "id": "af29cb6c-cca8-4774-80ee-98773e5594cc"
   },
   "outputs": [],
   "source": [
    "airport_df= merged_airport_df.drop(columns=[\"latitude\", \"longitude\",\"city\",\"country_id\"])"
   ]
  },
  {
   "cell_type": "code",
   "execution_count": 163,
   "id": "7ddc52b7-fbc5-44ba-b30d-9d602cf6fbd1",
   "metadata": {
    "id": "7ddc52b7-fbc5-44ba-b30d-9d602cf6fbd1",
    "outputId": "c48a07db-328d-4c6e-ebeb-707a66d12d4a"
   },
   "outputs": [
    {
     "data": {
      "text/plain": [
       "8"
      ]
     },
     "execution_count": 163,
     "metadata": {},
     "output_type": "execute_result"
    }
   ],
   "source": [
    "airport_df.to_sql('airports',\n",
    "                  if_exists='append',\n",
    "                  con=connection_string,\n",
    "                  index=False)"
   ]
  },
  {
   "cell_type": "code",
   "execution_count": 164,
   "id": "4efa9256-680d-45f0-a30c-9fe0f1adcb32",
   "metadata": {
    "id": "4efa9256-680d-45f0-a30c-9fe0f1adcb32"
   },
   "outputs": [],
   "source": [
    "airports_from_sql = pd.read_sql(\"airports\", con=connection_string)"
   ]
  },
  {
   "cell_type": "code",
   "execution_count": 165,
   "id": "7580d409-502e-4dff-b3f0-5895c29cf698",
   "metadata": {
    "id": "7580d409-502e-4dff-b3f0-5895c29cf698"
   },
   "outputs": [],
   "source": [
    "airport_icao = airports_from_sql['icao_code'].to_list()"
   ]
  },
  {
   "cell_type": "markdown",
   "id": "nctSOcDgjsTa",
   "metadata": {
    "id": "nctSOcDgjsTa"
   },
   "source": [
    "## Get_flights"
   ]
  },
  {
   "cell_type": "code",
   "execution_count": 167,
   "id": "cae4ce7f-2151-4cb7-9c9f-b61a973638b1",
   "metadata": {
    "id": "cae4ce7f-2151-4cb7-9c9f-b61a973638b1"
   },
   "outputs": [],
   "source": [
    "flights_df = gfa.get_flight_arrivals(airport_icao)"
   ]
  },
  {
   "cell_type": "code",
   "execution_count": 168,
   "id": "3e8ce641-1614-4376-ae58-ff78e571c26b",
   "metadata": {
    "id": "3e8ce641-1614-4376-ae58-ff78e571c26b"
   },
   "outputs": [],
   "source": [
    "merged_flights_df = flights_df.merge(airports_from_sql,\n",
    "                                   on = \"icao_code\",\n",
    "                                   how=\"left\")"
   ]
  },
  {
   "cell_type": "code",
   "execution_count": 169,
   "id": "3cd49a85-57cd-481b-9834-a2d9e3a2a364",
   "metadata": {
    "id": "3cd49a85-57cd-481b-9834-a2d9e3a2a364"
   },
   "outputs": [],
   "source": [
    "flights_df = merged_flights_df.drop(columns=[\"icao_code\",\"iata_code\", \"airport_name\",\"city_name\", \"city_id\"])"
   ]
  },
  {
   "cell_type": "code",
   "execution_count": 170,
   "id": "7fbd3958-6780-4cc3-a7ea-ac68041c2a9c",
   "metadata": {
    "id": "7fbd3958-6780-4cc3-a7ea-ac68041c2a9c"
   },
   "outputs": [],
   "source": [
    "flights_df['arrival_times']=pd.to_datetime(flights_df['arrival_times'])"
   ]
  },
  {
   "cell_type": "code",
   "execution_count": 171,
   "id": "5bd648c2-cac5-4826-af9e-69c106301225",
   "metadata": {
    "id": "5bd648c2-cac5-4826-af9e-69c106301225",
    "outputId": "88d3f1fa-5556-49bd-84ec-46c1ed35f9f2"
   },
   "outputs": [
    {
     "data": {
      "text/plain": [
       "417"
      ]
     },
     "execution_count": 171,
     "metadata": {},
     "output_type": "execute_result"
    }
   ],
   "source": [
    "flights_df.to_sql('flights',\n",
    "                   if_exists='append',\n",
    "                   con=connection_string,\n",
    "                   index=False)"
   ]
  },
  {
   "cell_type": "code",
   "execution_count": 172,
   "id": "23893939-10bb-4e57-a4a1-25c916fed068",
   "metadata": {
    "id": "23893939-10bb-4e57-a4a1-25c916fed068"
   },
   "outputs": [],
   "source": [
    "flights_from_sql = pd.read_sql(\"flights\", con=connection_string)"
   ]
  },
  {
   "cell_type": "code",
   "execution_count": 173,
   "id": "ce17b6d5-b411-4f69-8985-de89e3ca1114",
   "metadata": {},
   "outputs": [
    {
     "data": {
      "text/html": [
       "<div>\n",
       "<style scoped>\n",
       "    .dataframe tbody tr th:only-of-type {\n",
       "        vertical-align: middle;\n",
       "    }\n",
       "\n",
       "    .dataframe tbody tr th {\n",
       "        vertical-align: top;\n",
       "    }\n",
       "\n",
       "    .dataframe thead th {\n",
       "        text-align: right;\n",
       "    }\n",
       "</style>\n",
       "<table border=\"1\" class=\"dataframe\">\n",
       "  <thead>\n",
       "    <tr style=\"text-align: right;\">\n",
       "      <th></th>\n",
       "      <th>flight_id</th>\n",
       "      <th>airlines</th>\n",
       "      <th>flight_numbers</th>\n",
       "      <th>arrival_times</th>\n",
       "      <th>arrival_terminals</th>\n",
       "      <th>airport_id</th>\n",
       "    </tr>\n",
       "  </thead>\n",
       "  <tbody>\n",
       "    <tr>\n",
       "      <th>0</th>\n",
       "      <td>1</td>\n",
       "      <td>Aero Services Executive</td>\n",
       "      <td>W4 5105</td>\n",
       "      <td>2025-01-22 11:30:00</td>\n",
       "      <td>2</td>\n",
       "      <td>2</td>\n",
       "    </tr>\n",
       "    <tr>\n",
       "      <th>1</th>\n",
       "      <td>2</td>\n",
       "      <td>Sun Express</td>\n",
       "      <td>XQ 160</td>\n",
       "      <td>2025-01-22 11:35:00</td>\n",
       "      <td>1</td>\n",
       "      <td>2</td>\n",
       "    </tr>\n",
       "    <tr>\n",
       "      <th>2</th>\n",
       "      <td>3</td>\n",
       "      <td>Air Cairo</td>\n",
       "      <td>SM 2960</td>\n",
       "      <td>2025-01-22 11:35:00</td>\n",
       "      <td>1</td>\n",
       "      <td>2</td>\n",
       "    </tr>\n",
       "    <tr>\n",
       "      <th>3</th>\n",
       "      <td>4</td>\n",
       "      <td>Wizz Air</td>\n",
       "      <td>W6 2315</td>\n",
       "      <td>2025-01-22 11:35:00</td>\n",
       "      <td>2</td>\n",
       "      <td>2</td>\n",
       "    </tr>\n",
       "    <tr>\n",
       "      <th>4</th>\n",
       "      <td>5</td>\n",
       "      <td>Georgian</td>\n",
       "      <td>A9 781</td>\n",
       "      <td>2025-01-22 11:40:00</td>\n",
       "      <td>1</td>\n",
       "      <td>2</td>\n",
       "    </tr>\n",
       "    <tr>\n",
       "      <th>...</th>\n",
       "      <td>...</td>\n",
       "      <td>...</td>\n",
       "      <td>...</td>\n",
       "      <td>...</td>\n",
       "      <td>...</td>\n",
       "      <td>...</td>\n",
       "    </tr>\n",
       "    <tr>\n",
       "      <th>412</th>\n",
       "      <td>413</td>\n",
       "      <td>Lufthansa City</td>\n",
       "      <td>VL 1955</td>\n",
       "      <td>2025-01-22 21:10:00</td>\n",
       "      <td>2</td>\n",
       "      <td>8</td>\n",
       "    </tr>\n",
       "    <tr>\n",
       "      <th>413</th>\n",
       "      <td>414</td>\n",
       "      <td>Air France</td>\n",
       "      <td>AF 1122</td>\n",
       "      <td>2025-01-22 21:20:00</td>\n",
       "      <td>1</td>\n",
       "      <td>8</td>\n",
       "    </tr>\n",
       "    <tr>\n",
       "      <th>414</th>\n",
       "      <td>415</td>\n",
       "      <td>LOT - Polish</td>\n",
       "      <td>LO 355</td>\n",
       "      <td>2025-01-22 21:25:00</td>\n",
       "      <td>2</td>\n",
       "      <td>8</td>\n",
       "    </tr>\n",
       "    <tr>\n",
       "      <th>415</th>\n",
       "      <td>416</td>\n",
       "      <td>British</td>\n",
       "      <td>BA 958</td>\n",
       "      <td>2025-01-22 21:45:00</td>\n",
       "      <td>1</td>\n",
       "      <td>8</td>\n",
       "    </tr>\n",
       "    <tr>\n",
       "      <th>416</th>\n",
       "      <td>417</td>\n",
       "      <td>TAP Air Portugal</td>\n",
       "      <td>TP 556</td>\n",
       "      <td>2025-01-22 22:10:00</td>\n",
       "      <td>2</td>\n",
       "      <td>8</td>\n",
       "    </tr>\n",
       "  </tbody>\n",
       "</table>\n",
       "<p>417 rows × 6 columns</p>\n",
       "</div>"
      ],
      "text/plain": [
       "     flight_id                 airlines flight_numbers       arrival_times  \\\n",
       "0            1  Aero Services Executive        W4 5105 2025-01-22 11:30:00   \n",
       "1            2              Sun Express         XQ 160 2025-01-22 11:35:00   \n",
       "2            3                Air Cairo        SM 2960 2025-01-22 11:35:00   \n",
       "3            4                 Wizz Air        W6 2315 2025-01-22 11:35:00   \n",
       "4            5                 Georgian         A9 781 2025-01-22 11:40:00   \n",
       "..         ...                      ...            ...                 ...   \n",
       "412        413           Lufthansa City        VL 1955 2025-01-22 21:10:00   \n",
       "413        414               Air France        AF 1122 2025-01-22 21:20:00   \n",
       "414        415             LOT - Polish         LO 355 2025-01-22 21:25:00   \n",
       "415        416                  British         BA 958 2025-01-22 21:45:00   \n",
       "416        417         TAP Air Portugal         TP 556 2025-01-22 22:10:00   \n",
       "\n",
       "    arrival_terminals  airport_id  \n",
       "0                   2           2  \n",
       "1                   1           2  \n",
       "2                   1           2  \n",
       "3                   2           2  \n",
       "4                   1           2  \n",
       "..                ...         ...  \n",
       "412                 2           8  \n",
       "413                 1           8  \n",
       "414                 2           8  \n",
       "415                 1           8  \n",
       "416                 2           8  \n",
       "\n",
       "[417 rows x 6 columns]"
      ]
     },
     "execution_count": 173,
     "metadata": {},
     "output_type": "execute_result"
    }
   ],
   "source": [
    "flights_from_sql"
   ]
  },
  {
   "cell_type": "code",
   "execution_count": null,
   "id": "53298a5b-f861-4b57-a301-846333bef5e4",
   "metadata": {},
   "outputs": [],
   "source": []
  }
 ],
 "metadata": {
  "colab": {
   "provenance": [],
   "toc_visible": true
  },
  "kernelspec": {
   "display_name": "Python 3 (ipykernel)",
   "language": "python",
   "name": "python3"
  },
  "language_info": {
   "codemirror_mode": {
    "name": "ipython",
    "version": 3
   },
   "file_extension": ".py",
   "mimetype": "text/x-python",
   "name": "python",
   "nbconvert_exporter": "python",
   "pygments_lexer": "ipython3",
   "version": "3.12.4"
  }
 },
 "nbformat": 4,
 "nbformat_minor": 5
}
