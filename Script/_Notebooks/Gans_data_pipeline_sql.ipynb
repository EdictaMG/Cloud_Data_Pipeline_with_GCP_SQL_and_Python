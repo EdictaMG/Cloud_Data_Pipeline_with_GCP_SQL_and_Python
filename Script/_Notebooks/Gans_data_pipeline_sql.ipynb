{
 "cells": [
  {
   "cell_type": "code",
   "execution_count": null,
   "id": "b3d560bf",
   "metadata": {},
   "outputs": [],
   "source": [
    "### ALL CODES BELOW (AS A UNITY) WORK ONLY FOR THE LOCAL INSTANCE IN SQL CONNECTIONS (HOME OF MYSQLWORKBENCH)!\n",
    "### This complete file NEEDS to be run before adding updated information to SQL database tables in the future.\n",
    "### (For example: updated population, weather, or airports and flight information)\n",
    "### Note: getting updated information would require running the separate files, as needed (i.e. weather to get current weather info)\n",
    "\n",
    "#IMPORTANT:\n",
    "### RUN ALL CELLS ONLY WHEN HAVE RUN SQL QUERY (= HAVE DELETED AND RECREATED SQL DATABASE AND TABLES) AND WANT\n",
    "### BASIS INFORMATION ON WHICH COULD BE ADDED ON IN THE FUTURE."
   ]
  },
  {
   "cell_type": "code",
   "execution_count": null,
   "id": "64104f7b-b51d-4095-938d-d822bb292577",
   "metadata": {
    "id": "64104f7b-b51d-4095-938d-d822bb292577"
   },
   "outputs": [],
   "source": [
    "cities = ['City1', 'City2', 'City3'] #replace City1, City2...with actual city names"
   ]
  },
  {
   "cell_type": "code",
   "execution_count": 5,
   "id": "42b8bf81-1cc9-4f07-a748-0c7e4279ba02",
   "metadata": {
    "id": "42b8bf81-1cc9-4f07-a748-0c7e4279ba02"
   },
   "outputs": [],
   "source": [
    "# install if needed:\n",
    "# !pip install sqlalchemy\n",
    "# !pip install pymysql\n",
    "\n",
    "# libraries used:\n",
    "import get_connection_string as gcs\n",
    "import get_city_data as gcd\n",
    "import get_population_data as gpd\n",
    "import get_weather_data as gwd\n",
    "import get_airport_codes as gac\n",
    "import get_flight_arrivals as gfa\n",
    "import pandas as pd\n",
    "import requests"
   ]
  },
  {
   "cell_type": "code",
   "execution_count": 6,
   "id": "f093d9b6-26c2-423f-ad85-17aa8a2f32f2",
   "metadata": {
    "id": "f093d9b6-26c2-423f-ad85-17aa8a2f32f2"
   },
   "outputs": [],
   "source": [
    "connection_string = gcs.get_connection_string()"
   ]
  },
  {
   "cell_type": "markdown",
   "id": "rjCDrxwekl8f",
   "metadata": {
    "id": "rjCDrxwekl8f"
   },
   "source": [
    "## Get_city information"
   ]
  },
  {
   "cell_type": "code",
   "execution_count": 10,
   "id": "05907c71-2db7-4217-b4f6-9e65c43df49e",
   "metadata": {
    "id": "05907c71-2db7-4217-b4f6-9e65c43df49e"
   },
   "outputs": [],
   "source": [
    "city_scraping_df=gcd.get_city_data(cities)"
   ]
  },
  {
   "cell_type": "code",
   "execution_count": 11,
   "id": "efb859a9-2276-4b6c-a63c-1d5d49aaee9f",
   "metadata": {
    "id": "efb859a9-2276-4b6c-a63c-1d5d49aaee9f"
   },
   "outputs": [],
   "source": [
    "city_pop_scraping_df=gpd.get_population_data(cities)"
   ]
  },
  {
   "cell_type": "markdown",
   "id": "068qye0QkZwy",
   "metadata": {
    "id": "068qye0QkZwy"
   },
   "source": [
    "### Countries"
   ]
  },
  {
   "cell_type": "code",
   "execution_count": 14,
   "id": "3c2eae1d-dab0-4f0f-97d2-2a1a3f143415",
   "metadata": {
    "id": "3c2eae1d-dab0-4f0f-97d2-2a1a3f143415"
   },
   "outputs": [],
   "source": [
    "countries_df = city_scraping_df['country'].unique()\n",
    "countries_df = pd.DataFrame({\"country\": countries_df})"
   ]
  },
  {
   "cell_type": "code",
   "execution_count": 15,
   "id": "6d03c9d9-0079-4349-980a-e1da105a5ffc",
   "metadata": {
    "id": "6d03c9d9-0079-4349-980a-e1da105a5ffc",
    "outputId": "5f25e4f9-ce64-46cf-dcfe-c3c9685681fd"
   },
   "outputs": [
    {
     "data": {
      "text/plain": [
       "1"
      ]
     },
     "execution_count": 15,
     "metadata": {},
     "output_type": "execute_result"
    }
   ],
   "source": [
    "countries_df.to_sql('countries',\n",
    "                  if_exists='append',\n",
    "                  con=connection_string,\n",
    "                  index=False)"
   ]
  },
  {
   "cell_type": "code",
   "execution_count": 19,
   "id": "b7586e91-e8b5-45a0-bb13-3d849d3a1a65",
   "metadata": {
    "id": "b7586e91-e8b5-45a0-bb13-3d849d3a1a65"
   },
   "outputs": [],
   "source": [
    "countries_from_sql = pd.read_sql(\"countries\", con=connection_string)"
   ]
  },
  {
   "cell_type": "markdown",
   "id": "0oldX-WBkTEC",
   "metadata": {
    "id": "0oldX-WBkTEC"
   },
   "source": [
    "### Cities"
   ]
  },
  {
   "cell_type": "code",
   "execution_count": 22,
   "id": "5fda89ce-84fe-4b4a-9b58-2b00a768bbc3",
   "metadata": {
    "id": "5fda89ce-84fe-4b4a-9b58-2b00a768bbc3"
   },
   "outputs": [],
   "source": [
    "merged_countries_df = city_scraping_df.merge(countries_from_sql,\n",
    "                                             on = \"country\",\n",
    "                                             how = \"left\")"
   ]
  },
  {
   "cell_type": "code",
   "execution_count": 24,
   "id": "994009cc-be69-457d-b2d1-e257321f4ec4",
   "metadata": {
    "id": "994009cc-be69-457d-b2d1-e257321f4ec4"
   },
   "outputs": [],
   "source": [
    "cities_df = merged_countries_df.drop(columns=[\"country\"])"
   ]
  },
  {
   "cell_type": "code",
   "execution_count": 26,
   "id": "d2bbc05a-da28-4ce3-8ef9-4f2425cba636",
   "metadata": {
    "id": "d2bbc05a-da28-4ce3-8ef9-4f2425cba636",
    "outputId": "10531046-db77-4c91-ef0c-742262cc3f58"
   },
   "outputs": [
    {
     "data": {
      "text/plain": [
       "9"
      ]
     },
     "execution_count": 26,
     "metadata": {},
     "output_type": "execute_result"
    }
   ],
   "source": [
    "cities_df.to_sql('cities',\n",
    "                  if_exists='append',\n",
    "                  con=connection_string,\n",
    "                  index=False)"
   ]
  },
  {
   "cell_type": "markdown",
   "id": "3CxzSgS9kI6W",
   "metadata": {
    "id": "3CxzSgS9kI6W"
   },
   "source": [
    "### Population"
   ]
  },
  {
   "cell_type": "code",
   "execution_count": 9,
   "id": "33c5002b-80bf-402e-b06c-7f00a09eef18",
   "metadata": {
    "id": "33c5002b-80bf-402e-b06c-7f00a09eef18"
   },
   "outputs": [],
   "source": [
    "cities_from_sql = pd.read_sql(\"cities\", con=connection_string)"
   ]
  },
  {
   "cell_type": "code",
   "execution_count": null,
   "id": "7d4f4726-7636-4138-b382-dfe8b607999f",
   "metadata": {
    "id": "7d4f4726-7636-4138-b382-dfe8b607999f"
   },
   "outputs": [],
   "source": [
    "merged_population = cities_from_sql.merge(city_pop_scraping_df,\n",
    "                                   on = \"city\",\n",
    "                                   how=\"left\")"
   ]
  },
  {
   "cell_type": "code",
   "execution_count": null,
   "id": "4c462846-0254-45e1-83cd-9827027b32e4",
   "metadata": {
    "id": "4c462846-0254-45e1-83cd-9827027b32e4"
   },
   "outputs": [],
   "source": [
    "population_df = merged_population[['city_id','population','year']]"
   ]
  },
  {
   "cell_type": "code",
   "execution_count": null,
   "id": "55af1050-7e05-4299-a955-596a718333a7",
   "metadata": {
    "id": "55af1050-7e05-4299-a955-596a718333a7",
    "outputId": "e31f67d5-0755-4c07-cdf3-3ed89c6966f4"
   },
   "outputs": [
    {
     "data": {
      "text/plain": [
       "3"
      ]
     },
     "execution_count": 16,
     "metadata": {},
     "output_type": "execute_result"
    }
   ],
   "source": [
    "population_df.to_sql('population',\n",
    "                  if_exists='append',\n",
    "                  con=connection_string,\n",
    "                  index=False)"
   ]
  },
  {
   "cell_type": "code",
   "execution_count": null,
   "id": "3e2b07c3-e619-4845-a5b7-8ae6fd032108",
   "metadata": {
    "id": "3e2b07c3-e619-4845-a5b7-8ae6fd032108"
   },
   "outputs": [],
   "source": [
    "population_from_sql = pd.read_sql(\"population\", con=connection_string) "
   ]
  },
  {
   "cell_type": "markdown",
   "id": "rS4-CcKOkAaM",
   "metadata": {
    "id": "rS4-CcKOkAaM"
   },
   "source": [
    "## Get_weather"
   ]
  },
  {
   "cell_type": "code",
   "execution_count": null,
   "id": "9afaa85b-32ae-4638-b680-34ee0d6f6c24",
   "metadata": {
    "id": "9afaa85b-32ae-4638-b680-34ee0d6f6c24"
   },
   "outputs": [],
   "source": [
    "cities = cities_from_sql[\"city\"].to_list()"
   ]
  },
  {
   "cell_type": "code",
   "execution_count": null,
   "id": "8e4e77a9-8bee-4bac-9218-03a2fc37ce61",
   "metadata": {
    "id": "8e4e77a9-8bee-4bac-9218-03a2fc37ce61"
   },
   "outputs": [],
   "source": [
    "city_weather_df = gwd.get_weather_data(cities)\n"
   ]
  },
  {
   "cell_type": "code",
   "execution_count": null,
   "id": "e780823d-dcdb-4026-b44e-3ea7a5057a6a",
   "metadata": {
    "id": "e780823d-dcdb-4026-b44e-3ea7a5057a6a"
   },
   "outputs": [],
   "source": [
    "merged_weather_df = city_weather_df.merge(cities_from_sql,\n",
    "                                   on = \"city\",\n",
    "                                   how=\"left\")"
   ]
  },
  {
   "cell_type": "code",
   "execution_count": null,
   "id": "a9f52fe4-ff9f-4e76-8154-ea51fb162cbc",
   "metadata": {
    "id": "a9f52fe4-ff9f-4e76-8154-ea51fb162cbc"
   },
   "outputs": [],
   "source": [
    "weather_df = merged_weather_df.drop(columns=[\"city\",\"country_id\", \"latitude\",\"longitude\"])"
   ]
  },
  {
   "cell_type": "code",
   "execution_count": null,
   "id": "f4357b79-4e72-4b34-b37f-fb4786a746a1",
   "metadata": {
    "id": "f4357b79-4e72-4b34-b37f-fb4786a746a1"
   },
   "outputs": [],
   "source": [
    "weather_df['forecast_time']=pd.to_datetime(weather_df['forecast_time'])"
   ]
  },
  {
   "cell_type": "code",
   "execution_count": null,
   "id": "fed60058-0903-4497-b3e4-844dd61ca132",
   "metadata": {
    "id": "fed60058-0903-4497-b3e4-844dd61ca132",
    "outputId": "53df46e3-ef78-4f6c-fe8f-ccd4f826bb84"
   },
   "outputs": [
    {
     "data": {
      "text/plain": [
       "120"
      ]
     },
     "execution_count": 23,
     "metadata": {},
     "output_type": "execute_result"
    }
   ],
   "source": [
    "weather_df.to_sql('weather',\n",
    "                  if_exists='append',\n",
    "                  con=connection_string,\n",
    "                  index=False)"
   ]
  },
  {
   "cell_type": "code",
   "execution_count": null,
   "id": "413518e1-a526-41a3-abac-52331f3b9c45",
   "metadata": {
    "id": "413518e1-a526-41a3-abac-52331f3b9c45"
   },
   "outputs": [],
   "source": [
    "weather_from_sql = pd.read_sql(\"weather\", con=connection_string)"
   ]
  },
  {
   "cell_type": "markdown",
   "id": "q8LtsKvPj28S",
   "metadata": {
    "id": "q8LtsKvPj28S"
   },
   "source": [
    "## Get_airports"
   ]
  },
  {
   "cell_type": "code",
   "execution_count": null,
   "id": "445aae20-3ca8-4ffb-9ba7-436a8ecde84f",
   "metadata": {
    "id": "445aae20-3ca8-4ffb-9ba7-436a8ecde84f"
   },
   "outputs": [],
   "source": [
    "city_latitude = cities_from_sql['latitude'].to_list()\n",
    "city_longitude = cities_from_sql['longitude'].to_list()"
   ]
  },
  {
   "cell_type": "code",
   "execution_count": null,
   "id": "e8da1e43-800e-44ef-b1e0-add6eab1c72d",
   "metadata": {
    "id": "e8da1e43-800e-44ef-b1e0-add6eab1c72d"
   },
   "outputs": [],
   "source": [
    "airports_df = gac.get_airport_codes(city_latitude, city_longitude)"
   ]
  },
  {
   "cell_type": "code",
   "execution_count": null,
   "id": "c426b11e-b131-4026-8eac-d68c38baf1ea",
   "metadata": {
    "id": "c426b11e-b131-4026-8eac-d68c38baf1ea"
   },
   "outputs": [],
   "source": [
    "merged_airport_df = pd.merge(airports_df, cities_from_sql,\n",
    "                                   on = ['latitude', 'longitude'],\n",
    "                                   how=\"left\")"
   ]
  },
  {
   "cell_type": "code",
   "execution_count": null,
   "id": "af29cb6c-cca8-4774-80ee-98773e5594cc",
   "metadata": {
    "id": "af29cb6c-cca8-4774-80ee-98773e5594cc"
   },
   "outputs": [],
   "source": [
    "airport_df= merged_airport_df.drop(columns=[\"latitude\", \"longitude\",\"city\",\"country_id\"])"
   ]
  },
  {
   "cell_type": "code",
   "execution_count": null,
   "id": "7ddc52b7-fbc5-44ba-b30d-9d602cf6fbd1",
   "metadata": {
    "id": "7ddc52b7-fbc5-44ba-b30d-9d602cf6fbd1",
    "outputId": "c48a07db-328d-4c6e-ebeb-707a66d12d4a"
   },
   "outputs": [
    {
     "data": {
      "text/plain": [
       "8"
      ]
     },
     "execution_count": 29,
     "metadata": {},
     "output_type": "execute_result"
    }
   ],
   "source": [
    "airport_df.to_sql('airports',\n",
    "                  if_exists='append',\n",
    "                  con=connection_string,\n",
    "                  index=False)"
   ]
  },
  {
   "cell_type": "code",
   "execution_count": null,
   "id": "4efa9256-680d-45f0-a30c-9fe0f1adcb32",
   "metadata": {
    "id": "4efa9256-680d-45f0-a30c-9fe0f1adcb32"
   },
   "outputs": [],
   "source": [
    "airports_from_sql = pd.read_sql(\"airports\", con=connection_string)"
   ]
  },
  {
   "cell_type": "code",
   "execution_count": null,
   "id": "7580d409-502e-4dff-b3f0-5895c29cf698",
   "metadata": {
    "id": "7580d409-502e-4dff-b3f0-5895c29cf698"
   },
   "outputs": [],
   "source": [
    "airport_icao = airports_from_sql['icao_code'].to_list()"
   ]
  },
  {
   "cell_type": "markdown",
   "id": "nctSOcDgjsTa",
   "metadata": {
    "id": "nctSOcDgjsTa"
   },
   "source": [
    "## Get_flights"
   ]
  },
  {
   "cell_type": "code",
   "execution_count": null,
   "id": "cae4ce7f-2151-4cb7-9c9f-b61a973638b1",
   "metadata": {
    "id": "cae4ce7f-2151-4cb7-9c9f-b61a973638b1"
   },
   "outputs": [],
   "source": [
    "flights_df = gfa.get_flight_arrivals(airport_icao)"
   ]
  },
  {
   "cell_type": "code",
   "execution_count": null,
   "id": "3e8ce641-1614-4376-ae58-ff78e571c26b",
   "metadata": {
    "id": "3e8ce641-1614-4376-ae58-ff78e571c26b"
   },
   "outputs": [],
   "source": [
    "merged_flights_df = flights_df.merge(airports_from_sql,\n",
    "                                   on = \"icao_code\",\n",
    "                                   how=\"left\")"
   ]
  },
  {
   "cell_type": "code",
   "execution_count": null,
   "id": "3cd49a85-57cd-481b-9834-a2d9e3a2a364",
   "metadata": {
    "id": "3cd49a85-57cd-481b-9834-a2d9e3a2a364"
   },
   "outputs": [],
   "source": [
    "flights_df = merged_flights_df.drop(columns=[\"icao_code\",\"iata_code\", \"airport_name\",\"city_name\", \"city_id\"])"
   ]
  },
  {
   "cell_type": "code",
   "execution_count": null,
   "id": "7fbd3958-6780-4cc3-a7ea-ac68041c2a9c",
   "metadata": {
    "id": "7fbd3958-6780-4cc3-a7ea-ac68041c2a9c"
   },
   "outputs": [],
   "source": [
    "flights_df['arrival_times']=pd.to_datetime(flights_df['arrival_times'])"
   ]
  },
  {
   "cell_type": "code",
   "execution_count": null,
   "id": "5bd648c2-cac5-4826-af9e-69c106301225",
   "metadata": {
    "id": "5bd648c2-cac5-4826-af9e-69c106301225",
    "outputId": "88d3f1fa-5556-49bd-84ec-46c1ed35f9f2"
   },
   "outputs": [
    {
     "data": {
      "text/plain": [
       "210"
      ]
     },
     "execution_count": 37,
     "metadata": {},
     "output_type": "execute_result"
    }
   ],
   "source": [
    "flights_df.to_sql('flights',\n",
    "                   if_exists='append',\n",
    "                   con=connection_string,\n",
    "                   index=False)"
   ]
  },
  {
   "cell_type": "code",
   "execution_count": null,
   "id": "23893939-10bb-4e57-a4a1-25c916fed068",
   "metadata": {
    "id": "23893939-10bb-4e57-a4a1-25c916fed068"
   },
   "outputs": [],
   "source": [
    "flights_from_sql = pd.read_sql(\"flights\", con=connection_string)"
   ]
  }
 ],
 "metadata": {
  "colab": {
   "provenance": [],
   "toc_visible": true
  },
  "kernelspec": {
   "display_name": "Python 3 (ipykernel)",
   "language": "python",
   "name": "python3"
  },
  "language_info": {
   "codemirror_mode": {
    "name": "ipython",
    "version": 3
   },
   "file_extension": ".py",
   "mimetype": "text/x-python",
   "name": "python",
   "nbconvert_exporter": "python",
   "pygments_lexer": "ipython3",
   "version": "3.12.4"
  }
 },
 "nbformat": 4,
 "nbformat_minor": 5
}
